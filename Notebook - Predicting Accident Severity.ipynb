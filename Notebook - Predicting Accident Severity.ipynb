{
 "cells": [
  {
   "cell_type": "code",
   "execution_count": 1,
   "metadata": {},
   "outputs": [],
   "source": [
    "import numpy as np\n",
    "import pandas as pd\n",
    "import matplotlib.pylab as plt\n",
    "import seaborn as sns\n",
    "import scipy.optimize as opt\n",
    "from sklearn.utils import resample\n",
    "from sklearn.model_selection import train_test_split\n",
    "from sklearn.neighbors import KNeighborsClassifier\n",
    "from sklearn.tree import DecisionTreeClassifier\n",
    "from sklearn.linear_model import LogisticRegression\n",
    "from sklearn.metrics import confusion_matrix\n",
    "from sklearn.metrics import f1_score\n",
    "from sklearn import svm\n",
    "from sklearn import metrics"
   ]
  },
  {
   "cell_type": "markdown",
   "metadata": {},
   "source": [
    "# Data Acquisition"
   ]
  },
  {
   "cell_type": "code",
   "execution_count": 2,
   "metadata": {},
   "outputs": [
    {
     "data": {
      "text/html": [
       "<div>\n",
       "<style scoped>\n",
       "    .dataframe tbody tr th:only-of-type {\n",
       "        vertical-align: middle;\n",
       "    }\n",
       "\n",
       "    .dataframe tbody tr th {\n",
       "        vertical-align: top;\n",
       "    }\n",
       "\n",
       "    .dataframe thead th {\n",
       "        text-align: right;\n",
       "    }\n",
       "</style>\n",
       "<table border=\"1\" class=\"dataframe\">\n",
       "  <thead>\n",
       "    <tr style=\"text-align: right;\">\n",
       "      <th></th>\n",
       "      <th>X</th>\n",
       "      <th>Y</th>\n",
       "      <th>OBJECTID</th>\n",
       "      <th>INCKEY</th>\n",
       "      <th>COLDETKEY</th>\n",
       "      <th>REPORTNO</th>\n",
       "      <th>STATUS</th>\n",
       "      <th>ADDRTYPE</th>\n",
       "      <th>INTKEY</th>\n",
       "      <th>LOCATION</th>\n",
       "      <th>...</th>\n",
       "      <th>ROADCOND</th>\n",
       "      <th>LIGHTCOND</th>\n",
       "      <th>PEDROWNOTGRNT</th>\n",
       "      <th>SDOTCOLNUM</th>\n",
       "      <th>SPEEDING</th>\n",
       "      <th>ST_COLCODE</th>\n",
       "      <th>ST_COLDESC</th>\n",
       "      <th>SEGLANEKEY</th>\n",
       "      <th>CROSSWALKKEY</th>\n",
       "      <th>HITPARKEDCAR</th>\n",
       "    </tr>\n",
       "  </thead>\n",
       "  <tbody>\n",
       "    <tr>\n",
       "      <th>0</th>\n",
       "      <td>-122.356511</td>\n",
       "      <td>47.517361</td>\n",
       "      <td>1</td>\n",
       "      <td>327920</td>\n",
       "      <td>329420</td>\n",
       "      <td>3856094</td>\n",
       "      <td>Matched</td>\n",
       "      <td>Intersection</td>\n",
       "      <td>34911.0</td>\n",
       "      <td>17TH AVE SW AND SW ROXBURY ST</td>\n",
       "      <td>...</td>\n",
       "      <td>Dry</td>\n",
       "      <td>Daylight</td>\n",
       "      <td>NaN</td>\n",
       "      <td>NaN</td>\n",
       "      <td>NaN</td>\n",
       "      <td>10</td>\n",
       "      <td>Entering at angle</td>\n",
       "      <td>0</td>\n",
       "      <td>0</td>\n",
       "      <td>N</td>\n",
       "    </tr>\n",
       "    <tr>\n",
       "      <th>1</th>\n",
       "      <td>-122.361405</td>\n",
       "      <td>47.702064</td>\n",
       "      <td>2</td>\n",
       "      <td>46200</td>\n",
       "      <td>46200</td>\n",
       "      <td>1791736</td>\n",
       "      <td>Matched</td>\n",
       "      <td>Block</td>\n",
       "      <td>NaN</td>\n",
       "      <td>HOLMAN RD NW BETWEEN 4TH AVE NW AND 3RD AVE NW</td>\n",
       "      <td>...</td>\n",
       "      <td>Wet</td>\n",
       "      <td>Dusk</td>\n",
       "      <td>NaN</td>\n",
       "      <td>5101020.0</td>\n",
       "      <td>NaN</td>\n",
       "      <td>13</td>\n",
       "      <td>From same direction - both going straight - bo...</td>\n",
       "      <td>0</td>\n",
       "      <td>0</td>\n",
       "      <td>N</td>\n",
       "    </tr>\n",
       "    <tr>\n",
       "      <th>2</th>\n",
       "      <td>-122.317414</td>\n",
       "      <td>47.664028</td>\n",
       "      <td>3</td>\n",
       "      <td>1212</td>\n",
       "      <td>1212</td>\n",
       "      <td>3507861</td>\n",
       "      <td>Matched</td>\n",
       "      <td>Block</td>\n",
       "      <td>NaN</td>\n",
       "      <td>ROOSEVELT WAY NE BETWEEN NE 47TH ST AND NE 50T...</td>\n",
       "      <td>...</td>\n",
       "      <td>Dry</td>\n",
       "      <td>Dark - Street Lights On</td>\n",
       "      <td>NaN</td>\n",
       "      <td>NaN</td>\n",
       "      <td>NaN</td>\n",
       "      <td>30</td>\n",
       "      <td>From opposite direction - all others</td>\n",
       "      <td>0</td>\n",
       "      <td>0</td>\n",
       "      <td>N</td>\n",
       "    </tr>\n",
       "    <tr>\n",
       "      <th>3</th>\n",
       "      <td>-122.318234</td>\n",
       "      <td>47.619927</td>\n",
       "      <td>4</td>\n",
       "      <td>327909</td>\n",
       "      <td>329409</td>\n",
       "      <td>EA03026</td>\n",
       "      <td>Matched</td>\n",
       "      <td>Intersection</td>\n",
       "      <td>29054.0</td>\n",
       "      <td>11TH AVE E AND E JOHN ST</td>\n",
       "      <td>...</td>\n",
       "      <td>Wet</td>\n",
       "      <td>Dark - Street Lights On</td>\n",
       "      <td>NaN</td>\n",
       "      <td>NaN</td>\n",
       "      <td>NaN</td>\n",
       "      <td>0</td>\n",
       "      <td>Vehicle going straight hits pedestrian</td>\n",
       "      <td>0</td>\n",
       "      <td>0</td>\n",
       "      <td>N</td>\n",
       "    </tr>\n",
       "    <tr>\n",
       "      <th>4</th>\n",
       "      <td>-122.351724</td>\n",
       "      <td>47.560306</td>\n",
       "      <td>5</td>\n",
       "      <td>104900</td>\n",
       "      <td>104900</td>\n",
       "      <td>2671936</td>\n",
       "      <td>Matched</td>\n",
       "      <td>Block</td>\n",
       "      <td>NaN</td>\n",
       "      <td>WEST MARGINAL WAY SW BETWEEN SW ALASKA ST AND ...</td>\n",
       "      <td>...</td>\n",
       "      <td>Ice</td>\n",
       "      <td>Dark - Street Lights On</td>\n",
       "      <td>NaN</td>\n",
       "      <td>9359012.0</td>\n",
       "      <td>Y</td>\n",
       "      <td>50</td>\n",
       "      <td>Fixed object</td>\n",
       "      <td>0</td>\n",
       "      <td>0</td>\n",
       "      <td>N</td>\n",
       "    </tr>\n",
       "  </tbody>\n",
       "</table>\n",
       "<p>5 rows × 40 columns</p>\n",
       "</div>"
      ],
      "text/plain": [
       "            X          Y  OBJECTID  INCKEY  COLDETKEY REPORTNO   STATUS  \\\n",
       "0 -122.356511  47.517361         1  327920     329420  3856094  Matched   \n",
       "1 -122.361405  47.702064         2   46200      46200  1791736  Matched   \n",
       "2 -122.317414  47.664028         3    1212       1212  3507861  Matched   \n",
       "3 -122.318234  47.619927         4  327909     329409  EA03026  Matched   \n",
       "4 -122.351724  47.560306         5  104900     104900  2671936  Matched   \n",
       "\n",
       "       ADDRTYPE   INTKEY                                           LOCATION  \\\n",
       "0  Intersection  34911.0                      17TH AVE SW AND SW ROXBURY ST   \n",
       "1         Block      NaN     HOLMAN RD NW BETWEEN 4TH AVE NW AND 3RD AVE NW   \n",
       "2         Block      NaN  ROOSEVELT WAY NE BETWEEN NE 47TH ST AND NE 50T...   \n",
       "3  Intersection  29054.0                           11TH AVE E AND E JOHN ST   \n",
       "4         Block      NaN  WEST MARGINAL WAY SW BETWEEN SW ALASKA ST AND ...   \n",
       "\n",
       "   ... ROADCOND                LIGHTCOND PEDROWNOTGRNT SDOTCOLNUM SPEEDING  \\\n",
       "0  ...      Dry                 Daylight           NaN        NaN      NaN   \n",
       "1  ...      Wet                     Dusk           NaN  5101020.0      NaN   \n",
       "2  ...      Dry  Dark - Street Lights On           NaN        NaN      NaN   \n",
       "3  ...      Wet  Dark - Street Lights On           NaN        NaN      NaN   \n",
       "4  ...      Ice  Dark - Street Lights On           NaN  9359012.0        Y   \n",
       "\n",
       "   ST_COLCODE                                         ST_COLDESC  SEGLANEKEY  \\\n",
       "0          10                                  Entering at angle           0   \n",
       "1          13  From same direction - both going straight - bo...           0   \n",
       "2          30               From opposite direction - all others           0   \n",
       "3           0             Vehicle going straight hits pedestrian           0   \n",
       "4          50                                       Fixed object           0   \n",
       "\n",
       "   CROSSWALKKEY  HITPARKEDCAR  \n",
       "0             0             N  \n",
       "1             0             N  \n",
       "2             0             N  \n",
       "3             0             N  \n",
       "4             0             N  \n",
       "\n",
       "[5 rows x 40 columns]"
      ]
     },
     "execution_count": 2,
     "metadata": {},
     "output_type": "execute_result"
    }
   ],
   "source": [
    "df = pd.read_csv ('https://opendata.arcgis.com/datasets/5b5c745e0f1f48e7a53acec63a0022ab_0.csv')\n",
    "df.head()"
   ]
  },
  {
   "cell_type": "code",
   "execution_count": 3,
   "metadata": {},
   "outputs": [
    {
     "data": {
      "text/plain": [
       "Index(['X', 'Y', 'OBJECTID', 'INCKEY', 'COLDETKEY', 'REPORTNO', 'STATUS',\n",
       "       'ADDRTYPE', 'INTKEY', 'LOCATION', 'EXCEPTRSNCODE', 'EXCEPTRSNDESC',\n",
       "       'SEVERITYCODE', 'SEVERITYDESC', 'COLLISIONTYPE', 'PERSONCOUNT',\n",
       "       'PEDCOUNT', 'PEDCYLCOUNT', 'VEHCOUNT', 'INJURIES', 'SERIOUSINJURIES',\n",
       "       'FATALITIES', 'INCDATE', 'INCDTTM', 'JUNCTIONTYPE', 'SDOT_COLCODE',\n",
       "       'SDOT_COLDESC', 'INATTENTIONIND', 'UNDERINFL', 'WEATHER', 'ROADCOND',\n",
       "       'LIGHTCOND', 'PEDROWNOTGRNT', 'SDOTCOLNUM', 'SPEEDING', 'ST_COLCODE',\n",
       "       'ST_COLDESC', 'SEGLANEKEY', 'CROSSWALKKEY', 'HITPARKEDCAR'],\n",
       "      dtype='object')"
      ]
     },
     "execution_count": 3,
     "metadata": {},
     "output_type": "execute_result"
    }
   ],
   "source": [
    "df.columns"
   ]
  },
  {
   "cell_type": "code",
   "execution_count": 4,
   "metadata": {},
   "outputs": [
    {
     "data": {
      "text/plain": [
       "(221738, 40)"
      ]
     },
     "execution_count": 4,
     "metadata": {},
     "output_type": "execute_result"
    }
   ],
   "source": [
    "df.shape"
   ]
  },
  {
   "cell_type": "code",
   "execution_count": 5,
   "metadata": {},
   "outputs": [],
   "source": [
    "# drop columns with no prediciton value. \n",
    "df.drop(['X','Y', 'LOCATION', 'INCDTTM', 'OBJECTID', 'INCKEY', 'COLDETKEY', 'REPORTNO', 'STATUS', 'INTKEY', 'EXCEPTRSNCODE', 'EXCEPTRSNDESC', 'COLLISIONTYPE', 'PERSONCOUNT', 'VEHCOUNT', 'INJURIES', 'SERIOUSINJURIES',\n",
    "       'FATALITIES', 'ST_COLCODE', 'ST_COLDESC', 'SEGLANEKEY', 'CROSSWALKKEY', 'HITPARKEDCAR', 'SDOTCOLNUM', 'PEDROWNOTGRNT',  'INCDATE', 'SDOT_COLCODE', 'SDOT_COLDESC', 'ADDRTYPE', 'JUNCTIONTYPE'], axis = 1,inplace=True)"
   ]
  },
  {
   "cell_type": "markdown",
   "metadata": {},
   "source": [
    "# Data Cleanup"
   ]
  },
  {
   "cell_type": "code",
   "execution_count": 6,
   "metadata": {},
   "outputs": [
    {
     "data": {
      "text/plain": [
       "Property Damage Only Collision    137776\n",
       "Injury Collision                   58842\n",
       "Unknown                            21657\n",
       "Serious Injury Collision            3111\n",
       "Fatality Collision                   352\n",
       "Name: SEVERITYDESC, dtype: int64"
      ]
     },
     "execution_count": 6,
     "metadata": {},
     "output_type": "execute_result"
    }
   ],
   "source": [
    "# count total accidents grouped by severity. \n",
    "df['SEVERITYDESC'].value_counts()"
   ]
  },
  {
   "cell_type": "code",
   "execution_count": 7,
   "metadata": {},
   "outputs": [
    {
     "data": {
      "text/plain": [
       "(200081, 10)"
      ]
     },
     "execution_count": 7,
     "metadata": {},
     "output_type": "execute_result"
    }
   ],
   "source": [
    "# drop \"Unknown\" rows for severity and format to integer \n",
    "df['SEVERITYCODE'].replace(\"0\", np.nan, inplace = True)\n",
    "df.dropna(subset=['SEVERITYCODE'], axis=0, inplace = True)\n",
    "df['SEVERITYCODE'].replace(\"1\", 1, inplace = True)\n",
    "df['SEVERITYCODE'].replace(\"2\", 2, inplace = True)\n",
    "df['SEVERITYCODE'].replace(\"3\", 4, inplace = True)\n",
    "df['SEVERITYCODE'].replace(\"2b\", 3, inplace = True)\n",
    "df['SEVERITYCODE'].astype(int)\n",
    "df.shape"
   ]
  },
  {
   "cell_type": "code",
   "execution_count": 8,
   "metadata": {},
   "outputs": [
    {
     "data": {
      "text/plain": [
       "1    137776\n",
       "2     58842\n",
       "3      3111\n",
       "4       352\n",
       "Name: SEVERITYCODE, dtype: int64"
      ]
     },
     "execution_count": 8,
     "metadata": {},
     "output_type": "execute_result"
    }
   ],
   "source": [
    "df['SEVERITYCODE'].value_counts()"
   ]
  },
  {
   "cell_type": "markdown",
   "metadata": {},
   "source": [
    "### Format categorical into dummy variables"
   ]
  },
  {
   "cell_type": "code",
   "execution_count": 9,
   "metadata": {},
   "outputs": [
    {
     "data": {
      "text/plain": [
       "array([0, 1])"
      ]
     },
     "execution_count": 9,
     "metadata": {},
     "output_type": "execute_result"
    }
   ],
   "source": [
    "df['SPEEDING'].replace(np.nan, 0, inplace = True)\n",
    "df['SPEEDING'].replace(\"Y\", 1, inplace = True)\n",
    "df['SPEEDING'].astype(int)\n",
    "df['SPEEDING'].unique()"
   ]
  },
  {
   "cell_type": "code",
   "execution_count": 10,
   "metadata": {},
   "outputs": [
    {
     "data": {
      "text/plain": [
       "array([0, 1])"
      ]
     },
     "execution_count": 10,
     "metadata": {},
     "output_type": "execute_result"
    }
   ],
   "source": [
    "df['PEDCYLCOUNT'].replace(2, 1, inplace = True)\n",
    "df.rename(columns={'PEDCYLCOUNT': 'CYCLIST'}, inplace=True)\n",
    "df['CYCLIST'].astype(int)\n",
    "df['CYCLIST'].unique()"
   ]
  },
  {
   "cell_type": "code",
   "execution_count": 11,
   "metadata": {},
   "outputs": [
    {
     "data": {
      "text/plain": [
       "array([0, 1])"
      ]
     },
     "execution_count": 11,
     "metadata": {},
     "output_type": "execute_result"
    }
   ],
   "source": [
    "df['INATTENTIONIND'].replace(np.nan, 0, inplace = True)\n",
    "df['INATTENTIONIND'].replace(\"Y\", 1, inplace = True)\n",
    "df['INATTENTIONIND'].astype(int)\n",
    "df['INATTENTIONIND'].unique()"
   ]
  },
  {
   "cell_type": "code",
   "execution_count": 12,
   "metadata": {},
   "outputs": [
    {
     "data": {
      "text/plain": [
       "array([0, 1])"
      ]
     },
     "execution_count": 12,
     "metadata": {},
     "output_type": "execute_result"
    }
   ],
   "source": [
    "df['PEDCOUNT'].replace(2, 1, inplace = True)\n",
    "df['PEDCOUNT'].replace(3, 1, inplace = True)\n",
    "df['PEDCOUNT'].replace(4, 1, inplace = True)\n",
    "df['PEDCOUNT'].replace(5, 1, inplace = True)\n",
    "df['PEDCOUNT'].replace(6, 1, inplace = True)\n",
    "df.rename(columns={'PEDCOUNT': 'PEDESTRIAN'}, inplace=True)\n",
    "df['PEDESTRIAN'].astype(int)\n",
    "df['PEDESTRIAN'].unique()"
   ]
  },
  {
   "cell_type": "code",
   "execution_count": 13,
   "metadata": {},
   "outputs": [
    {
     "data": {
      "text/plain": [
       "array([0, 1])"
      ]
     },
     "execution_count": 13,
     "metadata": {},
     "output_type": "execute_result"
    }
   ],
   "source": [
    "df['UNDERINFL'].replace(np.nan, 0, inplace = True)\n",
    "df['UNDERINFL'].replace(\"Y\", 1, inplace = True)\n",
    "df['UNDERINFL'].replace(\"N\", 0, inplace = True)\n",
    "df['UNDERINFL'].replace(\"1\", 1, inplace = True)\n",
    "df['UNDERINFL'].replace(\"0\", 0, inplace = True)\n",
    "df['UNDERINFL'].astype(int)\n",
    "df['UNDERINFL'].unique()"
   ]
  },
  {
   "cell_type": "code",
   "execution_count": 14,
   "metadata": {},
   "outputs": [
    {
     "data": {
      "text/plain": [
       "array(['Clear', 'Rain', 'Overcast', nan, 'Snow', 'Hail', 'Fog',\n",
       "       'Blowing_Dirt', 'Crosswind', 'Cloudy'], dtype=object)"
      ]
     },
     "execution_count": 14,
     "metadata": {},
     "output_type": "execute_result"
    }
   ],
   "source": [
    "df['WEATHER'].replace('Unknown', np.nan, inplace = True)\n",
    "df['WEATHER'].replace('Other', np.nan, inplace = True)\n",
    "df['WEATHER'].replace('Raining', 'Rain', inplace = True)\n",
    "df['WEATHER'].replace('Snowing', 'Snow', inplace = True)\n",
    "df['WEATHER'].replace('Sleet/Hail/Freezing Rain', 'Hail', inplace = True)\n",
    "df['WEATHER'].replace('Blowing Sand/Dirt', 'Blowing_Dirt', inplace = True)\n",
    "df['WEATHER'].replace('Severe Crosswind', 'Crosswind', inplace = True)\n",
    "df['WEATHER'].replace('Fog/Smog/Smoke', 'Fog', inplace = True)\n",
    "df['WEATHER'].replace('Partly Cloudy', 'Cloudy', inplace = True)\n",
    "df['WEATHER'].replace('Blowing Snow', 'Snow', inplace = True)\n",
    "df['WEATHER'].unique()"
   ]
  },
  {
   "cell_type": "code",
   "execution_count": 15,
   "metadata": {},
   "outputs": [
    {
     "data": {
      "text/plain": [
       "array(['Dry', 'Wet', 'Ice', nan, 'Standing_Water', 'Mud', 'Oil'],\n",
       "      dtype=object)"
      ]
     },
     "execution_count": 15,
     "metadata": {},
     "output_type": "execute_result"
    }
   ],
   "source": [
    "df['ROADCOND'].replace('Unknown', np.nan, inplace = True)\n",
    "df['ROADCOND'].replace('Other', np.nan, inplace = True)\n",
    "df['ROADCOND'].replace('Snow/Slush', 'Ice', inplace = True)\n",
    "df['ROADCOND'].replace('Snow', 'Ice', inplace = True)\n",
    "df['ROADCOND'].replace('Standing Water', 'Standing_Water', inplace = True)\n",
    "df['ROADCOND'].replace('Sand/Mud/Dirt', 'Mud', inplace = True)\n",
    "df['ROADCOND'].unique()"
   ]
  },
  {
   "cell_type": "code",
   "execution_count": 16,
   "metadata": {},
   "outputs": [
    {
     "data": {
      "text/plain": [
       "array(['Daylight', 'Dusk', 'Dark_Street_Lights_On', nan, 'Dawn',\n",
       "       'Dark_No_Street_Lights', 'Dark_Unknown_Lighting'], dtype=object)"
      ]
     },
     "execution_count": 16,
     "metadata": {},
     "output_type": "execute_result"
    }
   ],
   "source": [
    "df['LIGHTCOND'].replace('Unknown', np.nan, inplace = True)\n",
    "df['LIGHTCOND'].replace('Other', np.nan, inplace = True)\n",
    "df['LIGHTCOND'].replace('Dark - Street Lights On', 'Dark_Street_Lights_On', inplace = True)\n",
    "df['LIGHTCOND'].replace('Dark - No Street Lights', 'Dark_No_Street_Lights', inplace = True)\n",
    "df['LIGHTCOND'].replace('Dark - Street Lights Off', 'Dark_No_Street_Lights', inplace = True)\n",
    "df['LIGHTCOND'].replace('Dark - Unknown Lighting', 'Dark_Unknown_Lighting', inplace = True)\n",
    "df.rename(columns={'LIGHTCOND': 'light'}, inplace=True)\n",
    "df['light'].unique()"
   ]
  },
  {
   "cell_type": "code",
   "execution_count": 17,
   "metadata": {},
   "outputs": [
    {
     "data": {
      "text/html": [
       "<div>\n",
       "<style scoped>\n",
       "    .dataframe tbody tr th:only-of-type {\n",
       "        vertical-align: middle;\n",
       "    }\n",
       "\n",
       "    .dataframe tbody tr th {\n",
       "        vertical-align: top;\n",
       "    }\n",
       "\n",
       "    .dataframe thead th {\n",
       "        text-align: right;\n",
       "    }\n",
       "</style>\n",
       "<table border=\"1\" class=\"dataframe\">\n",
       "  <thead>\n",
       "    <tr style=\"text-align: right;\">\n",
       "      <th></th>\n",
       "      <th>SEVERITYCODE</th>\n",
       "      <th>SEVERITYDESC</th>\n",
       "      <th>PEDESTRIAN</th>\n",
       "      <th>CYCLIST</th>\n",
       "      <th>INATTENTIONIND</th>\n",
       "      <th>UNDERINFL</th>\n",
       "      <th>WEATHER</th>\n",
       "      <th>ROADCOND</th>\n",
       "      <th>light</th>\n",
       "      <th>SPEEDING</th>\n",
       "    </tr>\n",
       "  </thead>\n",
       "  <tbody>\n",
       "    <tr>\n",
       "      <th>0</th>\n",
       "      <td>1</td>\n",
       "      <td>Property Damage Only Collision</td>\n",
       "      <td>0</td>\n",
       "      <td>0</td>\n",
       "      <td>0</td>\n",
       "      <td>0</td>\n",
       "      <td>Clear</td>\n",
       "      <td>Dry</td>\n",
       "      <td>Daylight</td>\n",
       "      <td>0</td>\n",
       "    </tr>\n",
       "    <tr>\n",
       "      <th>1</th>\n",
       "      <td>1</td>\n",
       "      <td>Property Damage Only Collision</td>\n",
       "      <td>0</td>\n",
       "      <td>0</td>\n",
       "      <td>1</td>\n",
       "      <td>0</td>\n",
       "      <td>Rain</td>\n",
       "      <td>Wet</td>\n",
       "      <td>Dusk</td>\n",
       "      <td>0</td>\n",
       "    </tr>\n",
       "    <tr>\n",
       "      <th>2</th>\n",
       "      <td>2</td>\n",
       "      <td>Injury Collision</td>\n",
       "      <td>0</td>\n",
       "      <td>0</td>\n",
       "      <td>0</td>\n",
       "      <td>0</td>\n",
       "      <td>Clear</td>\n",
       "      <td>Dry</td>\n",
       "      <td>Dark_Street_Lights_On</td>\n",
       "      <td>0</td>\n",
       "    </tr>\n",
       "    <tr>\n",
       "      <th>3</th>\n",
       "      <td>2</td>\n",
       "      <td>Injury Collision</td>\n",
       "      <td>1</td>\n",
       "      <td>0</td>\n",
       "      <td>0</td>\n",
       "      <td>0</td>\n",
       "      <td>Rain</td>\n",
       "      <td>Wet</td>\n",
       "      <td>Dark_Street_Lights_On</td>\n",
       "      <td>0</td>\n",
       "    </tr>\n",
       "    <tr>\n",
       "      <th>4</th>\n",
       "      <td>2</td>\n",
       "      <td>Injury Collision</td>\n",
       "      <td>0</td>\n",
       "      <td>0</td>\n",
       "      <td>0</td>\n",
       "      <td>0</td>\n",
       "      <td>Clear</td>\n",
       "      <td>Ice</td>\n",
       "      <td>Dark_Street_Lights_On</td>\n",
       "      <td>1</td>\n",
       "    </tr>\n",
       "  </tbody>\n",
       "</table>\n",
       "</div>"
      ],
      "text/plain": [
       "   SEVERITYCODE                    SEVERITYDESC  PEDESTRIAN  CYCLIST  \\\n",
       "0             1  Property Damage Only Collision           0        0   \n",
       "1             1  Property Damage Only Collision           0        0   \n",
       "2             2                Injury Collision           0        0   \n",
       "3             2                Injury Collision           1        0   \n",
       "4             2                Injury Collision           0        0   \n",
       "\n",
       "   INATTENTIONIND  UNDERINFL WEATHER ROADCOND                  light  SPEEDING  \n",
       "0               0          0   Clear      Dry               Daylight         0  \n",
       "1               1          0    Rain      Wet                   Dusk         0  \n",
       "2               0          0   Clear      Dry  Dark_Street_Lights_On         0  \n",
       "3               0          0    Rain      Wet  Dark_Street_Lights_On         0  \n",
       "4               0          0   Clear      Ice  Dark_Street_Lights_On         1  "
      ]
     },
     "execution_count": 17,
     "metadata": {},
     "output_type": "execute_result"
    }
   ],
   "source": [
    "df.head()"
   ]
  },
  {
   "cell_type": "markdown",
   "metadata": {},
   "source": [
    "# Balancing the Dataset"
   ]
  },
  {
   "cell_type": "code",
   "execution_count": 18,
   "metadata": {},
   "outputs": [
    {
     "data": {
      "text/plain": [
       "Property Damage Only Collision    137776\n",
       "Injury Collision                   58842\n",
       "Serious Injury Collision            3111\n",
       "Fatality Collision                   352\n",
       "Name: SEVERITYDESC, dtype: int64"
      ]
     },
     "execution_count": 18,
     "metadata": {},
     "output_type": "execute_result"
    }
   ],
   "source": [
    "df['SEVERITYDESC'].value_counts()"
   ]
  },
  {
   "cell_type": "code",
   "execution_count": 19,
   "metadata": {},
   "outputs": [],
   "source": [
    "# downsampeling \"Property Damage Only Collision\" and \"Injury Collision\"\n",
    "df_damage = df[df.SEVERITYCODE==1]\n",
    "df_injury = df[df.SEVERITYCODE==2]\n",
    "df_damage_downsampled = resample(df_damage, replace=False, n_samples=3111, random_state=123)\n",
    "df_injury_downsampled = resample(df_injury, replace=False, n_samples=3111, random_state=123)\n",
    "df_downsampled = pd.concat([df_damage_downsampled, df_injury_downsampled])"
   ]
  },
  {
   "cell_type": "code",
   "execution_count": 20,
   "metadata": {},
   "outputs": [],
   "source": [
    "# upsampeling \"Fatality Collision\"\n",
    "df_fatalities = df[df.SEVERITYCODE==4]\n",
    "df_serious = df[df.SEVERITYCODE==3]\n",
    "df_fatalities_upsampled = resample(df_fatalities, replace=True, n_samples=3111,random_state=123)\n",
    "df_balanced = pd.concat([df_downsampled, df_serious, df_fatalities_upsampled])"
   ]
  },
  {
   "cell_type": "code",
   "execution_count": 21,
   "metadata": {},
   "outputs": [
    {
     "data": {
      "text/plain": [
       "Fatality Collision                3111\n",
       "Serious Injury Collision          3111\n",
       "Property Damage Only Collision    3111\n",
       "Injury Collision                  3111\n",
       "Name: SEVERITYDESC, dtype: int64"
      ]
     },
     "execution_count": 21,
     "metadata": {},
     "output_type": "execute_result"
    }
   ],
   "source": [
    "df_balanced['SEVERITYDESC'].value_counts()"
   ]
  },
  {
   "cell_type": "markdown",
   "metadata": {},
   "source": [
    "# Exploratory Data Analysis"
   ]
  },
  {
   "cell_type": "code",
   "execution_count": 22,
   "metadata": {},
   "outputs": [
    {
     "data": {
      "text/html": [
       "<div>\n",
       "<style scoped>\n",
       "    .dataframe tbody tr th:only-of-type {\n",
       "        vertical-align: middle;\n",
       "    }\n",
       "\n",
       "    .dataframe tbody tr th {\n",
       "        vertical-align: top;\n",
       "    }\n",
       "\n",
       "    .dataframe thead th {\n",
       "        text-align: right;\n",
       "    }\n",
       "</style>\n",
       "<table border=\"1\" class=\"dataframe\">\n",
       "  <thead>\n",
       "    <tr style=\"text-align: right;\">\n",
       "      <th></th>\n",
       "      <th>Driver inattentive</th>\n",
       "      <th>Driver alert</th>\n",
       "    </tr>\n",
       "  </thead>\n",
       "  <tbody>\n",
       "    <tr>\n",
       "      <th>Property Damage Only Collision</th>\n",
       "      <td>27.9</td>\n",
       "      <td>24.6</td>\n",
       "    </tr>\n",
       "    <tr>\n",
       "      <th>Injury Collision</th>\n",
       "      <td>37.6</td>\n",
       "      <td>23.3</td>\n",
       "    </tr>\n",
       "    <tr>\n",
       "      <th>Serious Injury Collision</th>\n",
       "      <td>24.1</td>\n",
       "      <td>25.1</td>\n",
       "    </tr>\n",
       "    <tr>\n",
       "      <th>Fatality Collision</th>\n",
       "      <td>10.4</td>\n",
       "      <td>27.0</td>\n",
       "    </tr>\n",
       "  </tbody>\n",
       "</table>\n",
       "</div>"
      ],
      "text/plain": [
       "                                Driver inattentive  Driver alert\n",
       "Property Damage Only Collision                27.9          24.6\n",
       "Injury Collision                              37.6          23.3\n",
       "Serious Injury Collision                      24.1          25.1\n",
       "Fatality Collision                            10.4          27.0"
      ]
     },
     "execution_count": 22,
     "metadata": {},
     "output_type": "execute_result"
    }
   ],
   "source": [
    "# Exloring the feature Inattention\n",
    "df_inattention = df_balanced[df_balanced.INATTENTIONIND==1]\n",
    "inattention_count = pd.DataFrame(df_inattention.SEVERITYDESC.value_counts(normalize=True) * 100)\n",
    "inattention_count.rename(columns={'SEVERITYDESC': 'Driver inattentive'}, inplace=True)\n",
    "\n",
    "df_attention = df_balanced[df_balanced.INATTENTIONIND==0]\n",
    "attention_count = pd.DataFrame(df_attention.SEVERITYDESC.value_counts(normalize=True) * 100)\n",
    "attention_count.rename(columns={'SEVERITYDESC': 'Driver alert'}, inplace=True)\n",
    "\n",
    "order = ['Property Damage Only Collision', 'Injury Collision', 'Serious Injury Collision', 'Fatality Collision']\n",
    "df_a = pd.concat([inattention_count, attention_count], axis=1, join='inner').sort_index()\n",
    "df_a.loc[order].round(1)"
   ]
  },
  {
   "cell_type": "code",
   "execution_count": 23,
   "metadata": {},
   "outputs": [
    {
     "data": {
      "text/plain": [
       "<matplotlib.lines.Line2D at 0x7ff1a725f860>"
      ]
     },
     "execution_count": 23,
     "metadata": {},
     "output_type": "execute_result"
    },
    {
     "data": {
      "image/png": "[encoded data removed]",
      "text/plain": [
       "<Figure size 720x360 with 1 Axes>"
      ]
     },
     "metadata": {
      "needs_background": "light"
     },
     "output_type": "display_data"
    }
   ],
   "source": [
    "df_a.loc[order].plot(kind='bar', figsize=(10,5))\n",
    "plt.axhline(y=25,linewidth=1, linestyle='--', color='k')"
   ]
  },
  {
   "cell_type": "code",
   "execution_count": 24,
   "metadata": {},
   "outputs": [
    {
     "data": {
      "text/html": [
       "<div>\n",
       "<style scoped>\n",
       "    .dataframe tbody tr th:only-of-type {\n",
       "        vertical-align: middle;\n",
       "    }\n",
       "\n",
       "    .dataframe tbody tr th {\n",
       "        vertical-align: top;\n",
       "    }\n",
       "\n",
       "    .dataframe thead th {\n",
       "        text-align: right;\n",
       "    }\n",
       "</style>\n",
       "<table border=\"1\" class=\"dataframe\">\n",
       "  <thead>\n",
       "    <tr style=\"text-align: right;\">\n",
       "      <th></th>\n",
       "      <th>Driver under influence</th>\n",
       "      <th>Driver sober</th>\n",
       "    </tr>\n",
       "  </thead>\n",
       "  <tbody>\n",
       "    <tr>\n",
       "      <th>Property Damage Only Collision</th>\n",
       "      <td>8.0</td>\n",
       "      <td>27.4</td>\n",
       "    </tr>\n",
       "    <tr>\n",
       "      <th>Injury Collision</th>\n",
       "      <td>13.5</td>\n",
       "      <td>26.6</td>\n",
       "    </tr>\n",
       "    <tr>\n",
       "      <th>Serious Injury Collision</th>\n",
       "      <td>27.0</td>\n",
       "      <td>24.7</td>\n",
       "    </tr>\n",
       "    <tr>\n",
       "      <th>Fatality Collision</th>\n",
       "      <td>51.6</td>\n",
       "      <td>21.3</td>\n",
       "    </tr>\n",
       "  </tbody>\n",
       "</table>\n",
       "</div>"
      ],
      "text/plain": [
       "                                Driver under influence  Driver sober\n",
       "Property Damage Only Collision                     8.0          27.4\n",
       "Injury Collision                                  13.5          26.6\n",
       "Serious Injury Collision                          27.0          24.7\n",
       "Fatality Collision                                51.6          21.3"
      ]
     },
     "execution_count": 24,
     "metadata": {},
     "output_type": "execute_result"
    }
   ],
   "source": [
    "# Exloring the feature Under Influence \n",
    "df_drunk = df_balanced[df_balanced.UNDERINFL==1]\n",
    "drunk_count = pd.DataFrame(df_drunk.SEVERITYDESC.value_counts(normalize=True) * 100)\n",
    "drunk_count.rename(columns={'SEVERITYDESC': 'Driver under influence'}, inplace=True)\n",
    "\n",
    "df_sober = df_balanced[df_balanced.UNDERINFL==0]\n",
    "sober_count = pd.DataFrame(df_sober.SEVERITYDESC.value_counts(normalize=True) * 100)\n",
    "sober_count.rename(columns={'SEVERITYDESC': 'Driver sober'}, inplace=True)\n",
    "\n",
    "df_d = pd.concat([drunk_count, sober_count], axis=1, join='inner')\n",
    "df_d.loc[order].round(1)"
   ]
  },
  {
   "cell_type": "code",
   "execution_count": 25,
   "metadata": {},
   "outputs": [
    {
     "data": {
      "text/plain": [
       "<matplotlib.lines.Line2D at 0x7ff1a7633940>"
      ]
     },
     "execution_count": 25,
     "metadata": {},
     "output_type": "execute_result"
    },
    {
     "data": {
      "image/png": "[encoded data removed]",
      "text/plain": [
       "<Figure size 720x360 with 1 Axes>"
      ]
     },
     "metadata": {
      "needs_background": "light"
     },
     "output_type": "display_data"
    }
   ],
   "source": [
    "df_d.loc[order].plot(kind='bar', figsize=(10,5))\n",
    "plt.axhline(y=25,linewidth=1, linestyle='--', color='k')"
   ]
  },
  {
   "cell_type": "code",
   "execution_count": 26,
   "metadata": {},
   "outputs": [
    {
     "data": {
      "text/html": [
       "<div>\n",
       "<style scoped>\n",
       "    .dataframe tbody tr th:only-of-type {\n",
       "        vertical-align: middle;\n",
       "    }\n",
       "\n",
       "    .dataframe tbody tr th {\n",
       "        vertical-align: top;\n",
       "    }\n",
       "\n",
       "    .dataframe thead th {\n",
       "        text-align: right;\n",
       "    }\n",
       "</style>\n",
       "<table border=\"1\" class=\"dataframe\">\n",
       "  <thead>\n",
       "    <tr style=\"text-align: right;\">\n",
       "      <th></th>\n",
       "      <th>Cyclist involved</th>\n",
       "      <th>No Cyclist involved</th>\n",
       "    </tr>\n",
       "  </thead>\n",
       "  <tbody>\n",
       "    <tr>\n",
       "      <th>Property Damage Only Collision</th>\n",
       "      <td>2.1</td>\n",
       "      <td>26.9</td>\n",
       "    </tr>\n",
       "    <tr>\n",
       "      <th>Injury Collision</th>\n",
       "      <td>27.5</td>\n",
       "      <td>24.8</td>\n",
       "    </tr>\n",
       "    <tr>\n",
       "      <th>Serious Injury Collision</th>\n",
       "      <td>45.2</td>\n",
       "      <td>23.3</td>\n",
       "    </tr>\n",
       "    <tr>\n",
       "      <th>Fatality Collision</th>\n",
       "      <td>25.1</td>\n",
       "      <td>25.0</td>\n",
       "    </tr>\n",
       "  </tbody>\n",
       "</table>\n",
       "</div>"
      ],
      "text/plain": [
       "                                Cyclist involved  No Cyclist involved\n",
       "Property Damage Only Collision               2.1                 26.9\n",
       "Injury Collision                            27.5                 24.8\n",
       "Serious Injury Collision                    45.2                 23.3\n",
       "Fatality Collision                          25.1                 25.0"
      ]
     },
     "execution_count": 26,
     "metadata": {},
     "output_type": "execute_result"
    }
   ],
   "source": [
    "#Exloring the feature Cyclist Involvment\n",
    "df_cyclist = df_balanced[df_balanced.CYCLIST==1]\n",
    "cyclist_count = pd.DataFrame(df_cyclist.SEVERITYDESC.value_counts(normalize=True) * 100)\n",
    "cyclist_count.rename(columns={'SEVERITYDESC': 'Cyclist involved'}, inplace=True)\n",
    "\n",
    "df_no_cyclist = df_balanced[df_balanced.CYCLIST==0]\n",
    "no_cyclist_count = pd.DataFrame(df_no_cyclist.SEVERITYDESC.value_counts(normalize=True) * 100)\n",
    "no_cyclist_count.rename(columns={'SEVERITYDESC': 'No Cyclist involved'}, inplace=True)\n",
    "\n",
    "df_c = pd.concat([cyclist_count, no_cyclist_count], axis=1, join='inner')\n",
    "df_c.loc[order].round(1)"
   ]
  },
  {
   "cell_type": "code",
   "execution_count": null,
   "metadata": {},
   "outputs": [],
   "source": [
    "df_c.loc[order].plot(kind='bar', figsize=(10,5))\n",
    "plt.axhline(y=25,linewidth=1, linestyle='--', color='k')"
   ]
  },
  {
   "cell_type": "code",
   "execution_count": 27,
   "metadata": {},
   "outputs": [
    {
     "data": {
      "text/html": [
       "<div>\n",
       "<style scoped>\n",
       "    .dataframe tbody tr th:only-of-type {\n",
       "        vertical-align: middle;\n",
       "    }\n",
       "\n",
       "    .dataframe tbody tr th {\n",
       "        vertical-align: top;\n",
       "    }\n",
       "\n",
       "    .dataframe thead th {\n",
       "        text-align: right;\n",
       "    }\n",
       "</style>\n",
       "<table border=\"1\" class=\"dataframe\">\n",
       "  <thead>\n",
       "    <tr style=\"text-align: right;\">\n",
       "      <th></th>\n",
       "      <th>Pedestrian involved</th>\n",
       "      <th>No Pedestrian involved</th>\n",
       "    </tr>\n",
       "  </thead>\n",
       "  <tbody>\n",
       "    <tr>\n",
       "      <th>Property Damage Only Collision</th>\n",
       "      <td>0.9</td>\n",
       "      <td>31.0</td>\n",
       "    </tr>\n",
       "    <tr>\n",
       "      <th>Injury Collision</th>\n",
       "      <td>12.9</td>\n",
       "      <td>28.0</td>\n",
       "    </tr>\n",
       "    <tr>\n",
       "      <th>Serious Injury Collision</th>\n",
       "      <td>36.8</td>\n",
       "      <td>22.0</td>\n",
       "    </tr>\n",
       "    <tr>\n",
       "      <th>Fatality Collision</th>\n",
       "      <td>49.4</td>\n",
       "      <td>18.9</td>\n",
       "    </tr>\n",
       "  </tbody>\n",
       "</table>\n",
       "</div>"
      ],
      "text/plain": [
       "                                Pedestrian involved  No Pedestrian involved\n",
       "Property Damage Only Collision                  0.9                    31.0\n",
       "Injury Collision                               12.9                    28.0\n",
       "Serious Injury Collision                       36.8                    22.0\n",
       "Fatality Collision                             49.4                    18.9"
      ]
     },
     "execution_count": 27,
     "metadata": {},
     "output_type": "execute_result"
    }
   ],
   "source": [
    "# Exploring feature Pedestrian Involvment\n",
    "df_pedestrian = df_balanced[df_balanced.PEDESTRIAN==1]\n",
    "pedestrian_count = pd.DataFrame(df_pedestrian.SEVERITYDESC.value_counts(normalize=True) * 100)\n",
    "pedestrian_count.rename(columns={'SEVERITYDESC': 'Pedestrian involved'}, inplace=True)\n",
    "\n",
    "df_no_pedestrian = df_balanced[df_balanced.PEDESTRIAN==0]\n",
    "no_pedestrian_count = pd.DataFrame(df_no_pedestrian.SEVERITYDESC.value_counts(normalize=True) * 100)\n",
    "no_pedestrian_count.rename(columns={'SEVERITYDESC': 'No Pedestrian involved'}, inplace=True)\n",
    "\n",
    "df_p = pd.concat([pedestrian_count, no_pedestrian_count], axis=1, join='inner')\n",
    "df_p.loc[order].round(1)"
   ]
  },
  {
   "cell_type": "code",
   "execution_count": 28,
   "metadata": {},
   "outputs": [
    {
     "data": {
      "text/plain": [
       "<matplotlib.lines.Line2D at 0x7f59c2fde320>"
      ]
     },
     "execution_count": 28,
     "metadata": {},
     "output_type": "execute_result"
    },
    {
     "data": {
      "image/png": "[encoded data removed]",
      "text/plain": [
       "<Figure size 720x360 with 1 Axes>"
      ]
     },
     "metadata": {
      "needs_background": "light"
     },
     "output_type": "display_data"
    }
   ],
   "source": [
    "df_p.loc[order].plot(kind='bar', figsize=(10,5))\n",
    "plt.axhline(y=25,linewidth=1, linestyle='--', color='k')"
   ]
  },
  {
   "cell_type": "code",
   "execution_count": 29,
   "metadata": {},
   "outputs": [
    {
     "data": {
      "text/html": [
       "<div>\n",
       "<style scoped>\n",
       "    .dataframe tbody tr th:only-of-type {\n",
       "        vertical-align: middle;\n",
       "    }\n",
       "\n",
       "    .dataframe tbody tr th {\n",
       "        vertical-align: top;\n",
       "    }\n",
       "\n",
       "    .dataframe thead th {\n",
       "        text-align: right;\n",
       "    }\n",
       "</style>\n",
       "<table border=\"1\" class=\"dataframe\">\n",
       "  <thead>\n",
       "    <tr style=\"text-align: right;\">\n",
       "      <th></th>\n",
       "      <th>Driver was speeding</th>\n",
       "      <th>Driver was not speeding</th>\n",
       "    </tr>\n",
       "  </thead>\n",
       "  <tbody>\n",
       "    <tr>\n",
       "      <th>Property Damage Only Collision</th>\n",
       "      <td>9.3</td>\n",
       "      <td>27.1</td>\n",
       "    </tr>\n",
       "    <tr>\n",
       "      <th>Injury Collision</th>\n",
       "      <td>11.3</td>\n",
       "      <td>26.9</td>\n",
       "    </tr>\n",
       "    <tr>\n",
       "      <th>Serious Injury Collision</th>\n",
       "      <td>25.4</td>\n",
       "      <td>24.9</td>\n",
       "    </tr>\n",
       "    <tr>\n",
       "      <th>Fatality Collision</th>\n",
       "      <td>54.0</td>\n",
       "      <td>21.1</td>\n",
       "    </tr>\n",
       "  </tbody>\n",
       "</table>\n",
       "</div>"
      ],
      "text/plain": [
       "                                Driver was speeding  Driver was not speeding\n",
       "Property Damage Only Collision                  9.3                     27.1\n",
       "Injury Collision                               11.3                     26.9\n",
       "Serious Injury Collision                       25.4                     24.9\n",
       "Fatality Collision                             54.0                     21.1"
      ]
     },
     "execution_count": 29,
     "metadata": {},
     "output_type": "execute_result"
    }
   ],
   "source": [
    "# Exloring the feature Speeding\n",
    "df_speeding = df_balanced[df_balanced.SPEEDING==1]\n",
    "speeding_count = pd.DataFrame(df_speeding.SEVERITYDESC.value_counts(normalize=True) * 100)\n",
    "speeding_count.rename(columns={'SEVERITYDESC': 'Driver was speeding'}, inplace=True)\n",
    "\n",
    "df_not_speeding = df_balanced[df_balanced.SPEEDING==0]\n",
    "not_speeding_count = pd.DataFrame(df_not_speeding.SEVERITYDESC.value_counts(normalize=True) * 100)\n",
    "not_speeding_count.rename(columns={'SEVERITYDESC': 'Driver was not speeding'}, inplace=True)\n",
    "\n",
    "df_s = pd.concat([speeding_count, not_speeding_count], axis=1, join='inner')\n",
    "df_s.loc[order].round(1)"
   ]
  },
  {
   "cell_type": "code",
   "execution_count": 30,
   "metadata": {},
   "outputs": [
    {
     "data": {
      "text/plain": [
       "<matplotlib.lines.Line2D at 0x7f59c2630c88>"
      ]
     },
     "execution_count": 30,
     "metadata": {},
     "output_type": "execute_result"
    },
    {
     "data": {
      "image/png": "[encoded data removed]",
      "text/plain": [
       "<Figure size 720x360 with 1 Axes>"
      ]
     },
     "metadata": {
      "needs_background": "light"
     },
     "output_type": "display_data"
    }
   ],
   "source": [
    "df_s.loc[order].plot(kind='bar', figsize=(10,5))\n",
    "plt.axhline(y=25,linewidth=1, linestyle='--', color='k')"
   ]
  },
  {
   "cell_type": "code",
   "execution_count": 31,
   "metadata": {},
   "outputs": [
    {
     "data": {
      "text/html": [
       "<div>\n",
       "<style scoped>\n",
       "    .dataframe tbody tr th:only-of-type {\n",
       "        vertical-align: middle;\n",
       "    }\n",
       "\n",
       "    .dataframe tbody tr th {\n",
       "        vertical-align: top;\n",
       "    }\n",
       "\n",
       "    .dataframe thead th {\n",
       "        text-align: right;\n",
       "    }\n",
       "</style>\n",
       "<table border=\"1\" class=\"dataframe\">\n",
       "  <thead>\n",
       "    <tr style=\"text-align: right;\">\n",
       "      <th></th>\n",
       "      <th>Underinfl</th>\n",
       "      <th>Inattention</th>\n",
       "      <th>Cyclist</th>\n",
       "      <th>Pedestrian</th>\n",
       "      <th>Speeding</th>\n",
       "    </tr>\n",
       "  </thead>\n",
       "  <tbody>\n",
       "    <tr>\n",
       "      <th>Property Damage Only Collision</th>\n",
       "      <td>8.0</td>\n",
       "      <td>27.9</td>\n",
       "      <td>2.1</td>\n",
       "      <td>0.9</td>\n",
       "      <td>9.3</td>\n",
       "    </tr>\n",
       "    <tr>\n",
       "      <th>Injury Collision</th>\n",
       "      <td>13.5</td>\n",
       "      <td>37.6</td>\n",
       "      <td>27.5</td>\n",
       "      <td>12.9</td>\n",
       "      <td>11.3</td>\n",
       "    </tr>\n",
       "    <tr>\n",
       "      <th>Serious Injury Collision</th>\n",
       "      <td>27.0</td>\n",
       "      <td>24.1</td>\n",
       "      <td>45.2</td>\n",
       "      <td>36.8</td>\n",
       "      <td>25.4</td>\n",
       "    </tr>\n",
       "    <tr>\n",
       "      <th>Fatality Collision</th>\n",
       "      <td>51.6</td>\n",
       "      <td>10.4</td>\n",
       "      <td>25.1</td>\n",
       "      <td>49.4</td>\n",
       "      <td>54.0</td>\n",
       "    </tr>\n",
       "  </tbody>\n",
       "</table>\n",
       "</div>"
      ],
      "text/plain": [
       "                                Underinfl  Inattention  Cyclist  Pedestrian  \\\n",
       "Property Damage Only Collision        8.0         27.9      2.1         0.9   \n",
       "Injury Collision                     13.5         37.6     27.5        12.9   \n",
       "Serious Injury Collision             27.0         24.1     45.2        36.8   \n",
       "Fatality Collision                   51.6         10.4     25.1        49.4   \n",
       "\n",
       "                                Speeding  \n",
       "Property Damage Only Collision       9.3  \n",
       "Injury Collision                    11.3  \n",
       "Serious Injury Collision            25.4  \n",
       "Fatality Collision                  54.0  "
      ]
     },
     "execution_count": 31,
     "metadata": {},
     "output_type": "execute_result"
    }
   ],
   "source": [
    "df_inattention = df_balanced[df_balanced.INATTENTIONIND==1]\n",
    "inattention_count = pd.DataFrame(df_inattention.SEVERITYDESC.value_counts(normalize=True) * 100)\n",
    "inattention_count.rename(columns={'SEVERITYDESC': 'Inattention'}, inplace=True)\n",
    "\n",
    "df_drunk = df_balanced[df_balanced.UNDERINFL==1]\n",
    "drunk_count = pd.DataFrame(df_drunk.SEVERITYDESC.value_counts(normalize=True) * 100)\n",
    "drunk_count.rename(columns={'SEVERITYDESC': 'Underinfl'}, inplace=True)\n",
    "\n",
    "df_cyclist = df_balanced[df_balanced.CYCLIST==1]\n",
    "cyclist_count = pd.DataFrame(df_cyclist.SEVERITYDESC.value_counts(normalize=True) * 100)\n",
    "cyclist_count.rename(columns={'SEVERITYDESC': 'Cyclist'}, inplace=True)\n",
    "\n",
    "df_pedestrian = df_balanced[df_balanced.PEDESTRIAN==1]\n",
    "pedestrian_count = pd.DataFrame(df_pedestrian.SEVERITYDESC.value_counts(normalize=True) * 100)\n",
    "pedestrian_count.rename(columns={'SEVERITYDESC': 'Pedestrian'}, inplace=True)\n",
    "\n",
    "df_speeding = df_balanced[df_balanced.SPEEDING==1]\n",
    "speeding_count = pd.DataFrame(df_speeding.SEVERITYDESC.value_counts(normalize=True) * 100)\n",
    "speeding_count.rename(columns={'SEVERITYDESC': 'Speeding'}, inplace=True)\n",
    "\n",
    "df_counted = pd.concat([drunk_count, inattention_count, cyclist_count, pedestrian_count, speeding_count], axis=1, join='inner')\n",
    "df_counted.loc[order].round(1)"
   ]
  },
  {
   "cell_type": "code",
   "execution_count": 32,
   "metadata": {},
   "outputs": [
    {
     "data": {
      "text/plain": [
       "<matplotlib.lines.Line2D at 0x7f59c25bd860>"
      ]
     },
     "execution_count": 32,
     "metadata": {},
     "output_type": "execute_result"
    },
    {
     "data": {
      "image/png": "[encoded data removed]",
      "text/plain": [
       "<Figure size 720x360 with 1 Axes>"
      ]
     },
     "metadata": {
      "needs_background": "light"
     },
     "output_type": "display_data"
    }
   ],
   "source": [
    "df_counted.loc[order].plot(kind='bar', figsize=(10,5))\n",
    "plt.axhline(y=25,linewidth=1, linestyle='--', color='k')"
   ]
  },
  {
   "cell_type": "code",
   "execution_count": 33,
   "metadata": {},
   "outputs": [
    {
     "data": {
      "text/plain": [
       "Clear        7610\n",
       "Rain         2109\n",
       "Overcast     1800\n",
       "Fog            49\n",
       "Snow           35\n",
       "Cloudy         11\n",
       "Crosswind       9\n",
       "Hail            5\n",
       "Name: WEATHER, dtype: int64"
      ]
     },
     "execution_count": 33,
     "metadata": {},
     "output_type": "execute_result"
    }
   ],
   "source": [
    "df_balanced['WEATHER'].value_counts()"
   ]
  },
  {
   "cell_type": "code",
   "execution_count": 51,
   "metadata": {},
   "outputs": [
    {
     "data": {
      "text/html": [
       "<div>\n",
       "<style scoped>\n",
       "    .dataframe tbody tr th:only-of-type {\n",
       "        vertical-align: middle;\n",
       "    }\n",
       "\n",
       "    .dataframe tbody tr th {\n",
       "        vertical-align: top;\n",
       "    }\n",
       "\n",
       "    .dataframe thead th {\n",
       "        text-align: right;\n",
       "    }\n",
       "</style>\n",
       "<table border=\"1\" class=\"dataframe\">\n",
       "  <thead>\n",
       "    <tr style=\"text-align: right;\">\n",
       "      <th></th>\n",
       "      <th>Rain</th>\n",
       "      <th>Overcast</th>\n",
       "      <th>Clear</th>\n",
       "      <th>Fog</th>\n",
       "    </tr>\n",
       "  </thead>\n",
       "  <tbody>\n",
       "    <tr>\n",
       "      <th>Property Damage Only Collision</th>\n",
       "      <td>23.8</td>\n",
       "      <td>23.0</td>\n",
       "      <td>22.0</td>\n",
       "      <td>14.3</td>\n",
       "    </tr>\n",
       "    <tr>\n",
       "      <th>Injury Collision</th>\n",
       "      <td>28.7</td>\n",
       "      <td>25.8</td>\n",
       "      <td>25.0</td>\n",
       "      <td>32.7</td>\n",
       "    </tr>\n",
       "    <tr>\n",
       "      <th>Serious Injury Collision</th>\n",
       "      <td>25.1</td>\n",
       "      <td>24.8</td>\n",
       "      <td>26.6</td>\n",
       "      <td>6.1</td>\n",
       "    </tr>\n",
       "    <tr>\n",
       "      <th>Fatality Collision</th>\n",
       "      <td>22.4</td>\n",
       "      <td>26.4</td>\n",
       "      <td>26.4</td>\n",
       "      <td>46.9</td>\n",
       "    </tr>\n",
       "  </tbody>\n",
       "</table>\n",
       "</div>"
      ],
      "text/plain": [
       "                                Rain  Overcast  Clear   Fog\n",
       "Property Damage Only Collision  23.8      23.0   22.0  14.3\n",
       "Injury Collision                28.7      25.8   25.0  32.7\n",
       "Serious Injury Collision        25.1      24.8   26.6   6.1\n",
       "Fatality Collision              22.4      26.4   26.4  46.9"
      ]
     },
     "execution_count": 51,
     "metadata": {},
     "output_type": "execute_result"
    }
   ],
   "source": [
    "df_w = pd.get_dummies(df_balanced, columns=['WEATHER'])\n",
    "\n",
    "df_rain = df_w[df_w.WEATHER_Rain==1]\n",
    "rain_count = pd.DataFrame(df_rain.SEVERITYDESC.value_counts(normalize=True) * 100)\n",
    "rain_count.rename(columns={'SEVERITYDESC': 'Rain'}, inplace=True)\n",
    "\n",
    "df_overcast = df_w[df_w.WEATHER_Overcast==1]\n",
    "overcast_count = pd.DataFrame(df_overcast.SEVERITYDESC.value_counts(normalize=True) * 100)\n",
    "overcast_count.rename(columns={'SEVERITYDESC': 'Overcast'}, inplace=True)\n",
    "\n",
    "df_clear = df_w[df_w.WEATHER_Clear==1]\n",
    "clear_count = pd.DataFrame(df_clear.SEVERITYDESC.value_counts(normalize=True) * 100)\n",
    "clear_count.rename(columns={'SEVERITYDESC': 'Clear'}, inplace=True)\n",
    "\n",
    "df_fog = df_w[df_w.WEATHER_Fog==1]\n",
    "fog_count = pd.DataFrame(df_fog.SEVERITYDESC.value_counts(normalize=True) * 100)\n",
    "fog_count.rename(columns={'SEVERITYDESC': 'Fog'}, inplace=True)\n",
    "\n",
    "df_weather = pd.concat([rain_count, overcast_count, clear_count, fog_count], axis=1, join='inner')\n",
    "df_weather.loc[order].round(1)"
   ]
  },
  {
   "cell_type": "code",
   "execution_count": 52,
   "metadata": {},
   "outputs": [
    {
     "data": {
      "text/plain": [
       "<matplotlib.lines.Line2D at 0x7f59b5530eb8>"
      ]
     },
     "execution_count": 52,
     "metadata": {},
     "output_type": "execute_result"
    },
    {
     "data": {
      "image/png": "[encoded data removed]",
      "text/plain": [
       "<Figure size 720x360 with 1 Axes>"
      ]
     },
     "metadata": {
      "needs_background": "light"
     },
     "output_type": "display_data"
    }
   ],
   "source": [
    "df_weather.loc[order].plot(kind='bar', figsize=(10,5))\n",
    "plt.axhline(y=25,linewidth=1, linestyle='--', color='k')"
   ]
  },
  {
   "cell_type": "code",
   "execution_count": 57,
   "metadata": {},
   "outputs": [
    {
     "data": {
      "text/plain": [
       "Dry               8627\n",
       "Wet               2964\n",
       "Ice                101\n",
       "Standing_Water       7\n",
       "Mud                  2\n",
       "Name: ROADCOND, dtype: int64"
      ]
     },
     "execution_count": 57,
     "metadata": {},
     "output_type": "execute_result"
    }
   ],
   "source": [
    "df_balanced['ROADCOND'].value_counts()"
   ]
  },
  {
   "cell_type": "code",
   "execution_count": 58,
   "metadata": {},
   "outputs": [
    {
     "data": {
      "text/html": [
       "<div>\n",
       "<style scoped>\n",
       "    .dataframe tbody tr th:only-of-type {\n",
       "        vertical-align: middle;\n",
       "    }\n",
       "\n",
       "    .dataframe tbody tr th {\n",
       "        vertical-align: top;\n",
       "    }\n",
       "\n",
       "    .dataframe thead th {\n",
       "        text-align: right;\n",
       "    }\n",
       "</style>\n",
       "<table border=\"1\" class=\"dataframe\">\n",
       "  <thead>\n",
       "    <tr style=\"text-align: right;\">\n",
       "      <th></th>\n",
       "      <th>Wet</th>\n",
       "      <th>Dry</th>\n",
       "      <th>Ice</th>\n",
       "    </tr>\n",
       "  </thead>\n",
       "  <tbody>\n",
       "    <tr>\n",
       "      <th>Injury Collision</th>\n",
       "      <td>28.7</td>\n",
       "      <td>24.7</td>\n",
       "      <td>20.8</td>\n",
       "    </tr>\n",
       "    <tr>\n",
       "      <th>Serious Injury Collision</th>\n",
       "      <td>25.6</td>\n",
       "      <td>26.0</td>\n",
       "      <td>25.7</td>\n",
       "    </tr>\n",
       "    <tr>\n",
       "      <th>Property Damage Only Collision</th>\n",
       "      <td>24.2</td>\n",
       "      <td>21.8</td>\n",
       "      <td>45.5</td>\n",
       "    </tr>\n",
       "    <tr>\n",
       "      <th>Fatality Collision</th>\n",
       "      <td>21.5</td>\n",
       "      <td>27.5</td>\n",
       "      <td>7.9</td>\n",
       "    </tr>\n",
       "  </tbody>\n",
       "</table>\n",
       "</div>"
      ],
      "text/plain": [
       "                                 Wet   Dry   Ice\n",
       "Injury Collision                28.7  24.7  20.8\n",
       "Serious Injury Collision        25.6  26.0  25.7\n",
       "Property Damage Only Collision  24.2  21.8  45.5\n",
       "Fatality Collision              21.5  27.5   7.9"
      ]
     },
     "execution_count": 58,
     "metadata": {},
     "output_type": "execute_result"
    }
   ],
   "source": [
    "df_r = pd.get_dummies(df_balanced, columns=['ROADCOND'])\n",
    "\n",
    "df_wet = df_r[df_r.ROADCOND_Wet==1]\n",
    "wet_count = pd.DataFrame(df_wet.SEVERITYDESC.value_counts(normalize=True) * 100)\n",
    "wet_count.rename(columns={'SEVERITYDESC': 'Wet'}, inplace=True)\n",
    "\n",
    "df_dry = df_r[df_r.ROADCOND_Dry==1]\n",
    "dry_count = pd.DataFrame(df_dry.SEVERITYDESC.value_counts(normalize=True) * 100)\n",
    "dry_count.rename(columns={'SEVERITYDESC': 'Dry'}, inplace=True)\n",
    "\n",
    "df_ice = df_r[df_r.ROADCOND_Ice==1]\n",
    "ice_count = pd.DataFrame(df_ice.SEVERITYDESC.value_counts(normalize=True) * 100)\n",
    "ice_count.rename(columns={'SEVERITYDESC': 'Ice'}, inplace=True)\n",
    "\n",
    "df_road = pd.concat([wet_count, dry_count, ice_count], axis=1, join='inner')\n",
    "df_road.round(1)"
   ]
  },
  {
   "cell_type": "code",
   "execution_count": 40,
   "metadata": {},
   "outputs": [
    {
     "data": {
      "text/plain": [
       "<matplotlib.lines.Line2D at 0x7f59b5595b70>"
      ]
     },
     "execution_count": 40,
     "metadata": {},
     "output_type": "execute_result"
    },
    {
     "data": {
      "image/png": "[encoded data removed]",
      "text/plain": [
       "<Figure size 720x360 with 1 Axes>"
      ]
     },
     "metadata": {
      "needs_background": "light"
     },
     "output_type": "display_data"
    }
   ],
   "source": [
    "df_road.loc[order].plot(kind='bar', figsize=(10,5))\n",
    "plt.axhline(y=25,linewidth=1, linestyle='--', color='k')"
   ]
  },
  {
   "cell_type": "code",
   "execution_count": 59,
   "metadata": {},
   "outputs": [
    {
     "data": {
      "text/plain": [
       "Daylight                 7073\n",
       "Dark_Street_Lights_On    3886\n",
       "Dusk                      444\n",
       "Dark_No_Street_Lights     181\n",
       "Dawn                      180\n",
       "Dark_Unknown_Lighting       1\n",
       "Name: light, dtype: int64"
      ]
     },
     "execution_count": 59,
     "metadata": {},
     "output_type": "execute_result"
    }
   ],
   "source": [
    "df_balanced['light'].value_counts()"
   ]
  },
  {
   "cell_type": "code",
   "execution_count": 62,
   "metadata": {},
   "outputs": [
    {
     "data": {
      "text/html": [
       "<div>\n",
       "<style scoped>\n",
       "    .dataframe tbody tr th:only-of-type {\n",
       "        vertical-align: middle;\n",
       "    }\n",
       "\n",
       "    .dataframe tbody tr th {\n",
       "        vertical-align: top;\n",
       "    }\n",
       "\n",
       "    .dataframe thead th {\n",
       "        text-align: right;\n",
       "    }\n",
       "</style>\n",
       "<table border=\"1\" class=\"dataframe\">\n",
       "  <thead>\n",
       "    <tr style=\"text-align: right;\">\n",
       "      <th></th>\n",
       "      <th>Daylight</th>\n",
       "      <th>Dark with Street Lights</th>\n",
       "      <th>Dusk</th>\n",
       "      <th>Dark No Street Lights</th>\n",
       "      <th>Dawn</th>\n",
       "    </tr>\n",
       "  </thead>\n",
       "  <tbody>\n",
       "    <tr>\n",
       "      <th>Property Damage Only Collision</th>\n",
       "      <td>24.3</td>\n",
       "      <td>20.0</td>\n",
       "      <td>21.4</td>\n",
       "      <td>28.7</td>\n",
       "      <td>22.2</td>\n",
       "    </tr>\n",
       "    <tr>\n",
       "      <th>Injury Collision</th>\n",
       "      <td>29.1</td>\n",
       "      <td>20.0</td>\n",
       "      <td>26.8</td>\n",
       "      <td>16.0</td>\n",
       "      <td>20.0</td>\n",
       "    </tr>\n",
       "    <tr>\n",
       "      <th>Serious Injury Collision</th>\n",
       "      <td>25.3</td>\n",
       "      <td>26.2</td>\n",
       "      <td>24.8</td>\n",
       "      <td>29.3</td>\n",
       "      <td>33.3</td>\n",
       "    </tr>\n",
       "    <tr>\n",
       "      <th>Fatality Collision</th>\n",
       "      <td>21.3</td>\n",
       "      <td>33.7</td>\n",
       "      <td>27.0</td>\n",
       "      <td>26.0</td>\n",
       "      <td>24.4</td>\n",
       "    </tr>\n",
       "  </tbody>\n",
       "</table>\n",
       "</div>"
      ],
      "text/plain": [
       "                                Daylight  Dark with Street Lights  Dusk  \\\n",
       "Property Damage Only Collision      24.3                     20.0  21.4   \n",
       "Injury Collision                    29.1                     20.0  26.8   \n",
       "Serious Injury Collision            25.3                     26.2  24.8   \n",
       "Fatality Collision                  21.3                     33.7  27.0   \n",
       "\n",
       "                                Dark No Street Lights  Dawn  \n",
       "Property Damage Only Collision                   28.7  22.2  \n",
       "Injury Collision                                 16.0  20.0  \n",
       "Serious Injury Collision                         29.3  33.3  \n",
       "Fatality Collision                               26.0  24.4  "
      ]
     },
     "execution_count": 62,
     "metadata": {},
     "output_type": "execute_result"
    }
   ],
   "source": [
    "df_l = pd.get_dummies(df_balanced, columns=['light'])\n",
    "\n",
    "df_daylight = df_l[df_l.light_Daylight==1]\n",
    "daylight_count = pd.DataFrame(df_daylight.SEVERITYDESC.value_counts(normalize=True) * 100)\n",
    "daylight_count.rename(columns={'SEVERITYDESC': 'Daylight'}, inplace=True)\n",
    "\n",
    "df_dark_lights = df_l[df_l.light_Dark_Street_Lights_On==1]\n",
    "dark_lights_count = pd.DataFrame(df_dark_lights.SEVERITYDESC.value_counts(normalize=True) * 100)\n",
    "dark_lights_count.rename(columns={'SEVERITYDESC': 'Dark with Street Lights'}, inplace=True)\n",
    "\n",
    "df_dusk = df_l[df_l.light_Dusk==1]\n",
    "dusk_count = pd.DataFrame(df_dusk.SEVERITYDESC.value_counts(normalize=True) * 100)\n",
    "dusk_count.rename(columns={'SEVERITYDESC': 'Dusk'}, inplace=True)\n",
    "\n",
    "df_dark_no_lights = df_l[df_l.light_Dark_No_Street_Lights==1]\n",
    "dark_no_lights_count = pd.DataFrame(df_dark_no_lights.SEVERITYDESC.value_counts(normalize=True) * 100)\n",
    "dark_no_lights_count.rename(columns={'SEVERITYDESC': 'Dark No Street Lights'}, inplace=True)\n",
    "\n",
    "df_dawn = df_l[df_l.light_Dawn==1]\n",
    "dawn_count = pd.DataFrame(df_dawn.SEVERITYDESC.value_counts(normalize=True) * 100)\n",
    "dawn_count.rename(columns={'SEVERITYDESC': 'Dawn'}, inplace=True)\n",
    "\n",
    "df_light = pd.concat([daylight_count, dark_lights_count, dusk_count, dark_no_lights_count, dawn_count], axis=1, join='inner')\n",
    "df_light.loc[order].round(1)"
   ]
  },
  {
   "cell_type": "code",
   "execution_count": 63,
   "metadata": {},
   "outputs": [
    {
     "data": {
      "text/plain": [
       "<matplotlib.lines.Line2D at 0x7f59b53b9668>"
      ]
     },
     "execution_count": 63,
     "metadata": {},
     "output_type": "execute_result"
    },
    {
     "data": {
      "image/png": "[encoded data removed]",
      "text/plain": [
       "<Figure size 720x360 with 1 Axes>"
      ]
     },
     "metadata": {
      "needs_background": "light"
     },
     "output_type": "display_data"
    }
   ],
   "source": [
    "df_light.loc[order].plot(kind='bar', figsize=(10,5))\n",
    "plt.axhline(y=25,linewidth=1, linestyle='--', color='k')"
   ]
  },
  {
   "cell_type": "code",
   "execution_count": 64,
   "metadata": {},
   "outputs": [
    {
     "data": {
      "text/plain": [
       "Index(['LOCATION', 'SEVERITYCODE', 'SEVERITYDESC', 'PEDESTRIAN', 'CYCLIST',\n",
       "       'INCDTTM', 'INATTENTIONIND', 'UNDERINFL', 'SPEEDING',\n",
       "       'light_Dark_No_Street_Lights', 'light_Dark_Street_Lights_On',\n",
       "       'light_Dark_Unknown_Lighting', 'light_Dawn', 'light_Daylight',\n",
       "       'light_Dusk', 'ROADCOND_Dry', 'ROADCOND_Ice', 'ROADCOND_Mud',\n",
       "       'ROADCOND_Standing_Water', 'ROADCOND_Wet', 'WEATHER_Clear',\n",
       "       'WEATHER_Cloudy', 'WEATHER_Crosswind', 'WEATHER_Fog', 'WEATHER_Hail',\n",
       "       'WEATHER_Overcast', 'WEATHER_Rain', 'WEATHER_Snow'],\n",
       "      dtype='object')"
      ]
     },
     "execution_count": 64,
     "metadata": {},
     "output_type": "execute_result"
    }
   ],
   "source": [
    "df_dummies = pd.get_dummies(df_balanced, columns = ['light', 'ROADCOND', 'WEATHER'])\n",
    "df_dummies.columns"
   ]
  },
  {
   "cell_type": "markdown",
   "metadata": {},
   "source": [
    "# Training the Models"
   ]
  },
  {
   "cell_type": "code",
   "execution_count": 66,
   "metadata": {},
   "outputs": [],
   "source": [
    "y = df_dummies['SEVERITYDESC'].values\n",
    "X = df_dummies[['PEDESTRIAN', 'CYCLIST', 'INATTENTIONIND', 'UNDERINFL', 'SPEEDING', 'light_Dark_No_Street_Lights', 'light_Dark_Street_Lights_On', 'light_Dark_Unknown_Lighting', 'light_Dawn', 'light_Daylight', 'light_Dusk', 'ROADCOND_Dry', 'ROADCOND_Ice', 'ROADCOND_Mud', 'ROADCOND_Standing_Water', 'ROADCOND_Wet', 'WEATHER_Clear', 'WEATHER_Cloudy', 'WEATHER_Crosswind', 'WEATHER_Fog', 'WEATHER_Hail', 'WEATHER_Overcast', 'WEATHER_Rain', 'WEATHER_Snow']].values"
   ]
  },
  {
   "cell_type": "code",
   "execution_count": 67,
   "metadata": {},
   "outputs": [
    {
     "name": "stdout",
     "output_type": "stream",
     "text": [
      "Train set: (9955, 24) (9955,)\n",
      "Test set: (2489, 24) (2489,)\n"
     ]
    }
   ],
   "source": [
    "X_train, X_test, y_train, y_test = train_test_split( X, y, test_size=0.2, random_state=4)\n",
    "print ('Train set:', X_train.shape,  y_train.shape)\n",
    "print ('Test set:', X_test.shape,  y_test.shape)"
   ]
  },
  {
   "cell_type": "markdown",
   "metadata": {},
   "source": [
    "### K-Nearest Neighbour"
   ]
  },
  {
   "cell_type": "code",
   "execution_count": 68,
   "metadata": {},
   "outputs": [
    {
     "data": {
      "text/plain": [
       "array([0.35194857, 0.37725994, 0.42788268, 0.41301728, 0.42547208,\n",
       "       0.41181197, 0.42225793, 0.44676577, 0.44033748, 0.44395339,\n",
       "       0.446364  , 0.43792688, 0.44395339, 0.44475693, 0.43792688,\n",
       "       0.43631981, 0.4327039 , 0.4339092 , 0.43230213])"
      ]
     },
     "execution_count": 68,
     "metadata": {},
     "output_type": "execute_result"
    }
   ],
   "source": [
    "Ks = 20\n",
    "mean_acc = np.zeros((Ks-1))\n",
    "std_acc = np.zeros((Ks-1))\n",
    "ConfustionMx = [];\n",
    "for n in range(1,Ks):\n",
    "    \n",
    "    #Train Model and Predict  \n",
    "    neigh = KNeighborsClassifier(n_neighbors = n).fit(X_train,y_train)\n",
    "    yhat=neigh.predict(X_test)\n",
    "    mean_acc[n-1] = metrics.accuracy_score(y_test, yhat)\n",
    "    std_acc[n-1]=np.std(yhat==y_test)/np.sqrt(yhat.shape[0])\n",
    "\n",
    "mean_acc"
   ]
  },
  {
   "cell_type": "code",
   "execution_count": 46,
   "metadata": {},
   "outputs": [
    {
     "data": {
      "image/png": "[encoded data removed]",
      "text/plain": [
       "<Figure size 432x288 with 1 Axes>"
      ]
     },
     "metadata": {
      "needs_background": "light"
     },
     "output_type": "display_data"
    }
   ],
   "source": [
    "plt.plot(range(1,Ks),mean_acc,'g')\n",
    "plt.fill_between(range(1,Ks),mean_acc - 1 * std_acc,mean_acc + 1 * std_acc, alpha=0.10)\n",
    "plt.legend(('Accuracy ', '+/- 3xstd'))\n",
    "plt.ylabel('Accuracy ')\n",
    "plt.xlabel('Number of Nabors (K)')\n",
    "plt.tight_layout()\n",
    "plt.show()"
   ]
  },
  {
   "cell_type": "code",
   "execution_count": 69,
   "metadata": {},
   "outputs": [],
   "source": [
    "k = 8\n",
    "neigh = KNeighborsClassifier(n_neighbors = k).fit(X_train,y_train)\n",
    "yhat_neigh = neigh.predict(X_test)"
   ]
  },
  {
   "cell_type": "markdown",
   "metadata": {},
   "source": [
    "### Decision Tree"
   ]
  },
  {
   "cell_type": "code",
   "execution_count": 70,
   "metadata": {},
   "outputs": [],
   "source": [
    "drugTree = DecisionTreeClassifier(criterion=\"entropy\", max_depth = 6)\n",
    "drugTree.fit(X_train,y_train)\n",
    "yhat_tree = drugTree.predict(X_test)"
   ]
  },
  {
   "cell_type": "markdown",
   "metadata": {},
   "source": [
    "### Logistic Regression"
   ]
  },
  {
   "cell_type": "code",
   "execution_count": 71,
   "metadata": {},
   "outputs": [
    {
     "name": "stderr",
     "output_type": "stream",
     "text": [
      "/home/jupyterlab/conda/envs/python/lib/python3.6/site-packages/sklearn/linear_model/logistic.py:460: FutureWarning: Default multi_class will be changed to 'auto' in 0.22. Specify the multi_class option to silence this warning.\n",
      "  \"this warning.\", FutureWarning)\n"
     ]
    }
   ],
   "source": [
    "LR = LogisticRegression(C=0.01, solver='liblinear').fit(X_train,y_train)\n",
    "yhat_lr = LR.predict(X_test)"
   ]
  },
  {
   "cell_type": "markdown",
   "metadata": {},
   "source": [
    "### Support Vector Machine"
   ]
  },
  {
   "cell_type": "code",
   "execution_count": 72,
   "metadata": {},
   "outputs": [
    {
     "name": "stderr",
     "output_type": "stream",
     "text": [
      "/home/jupyterlab/conda/envs/python/lib/python3.6/site-packages/sklearn/svm/base.py:196: FutureWarning: The default value of gamma will change from 'auto' to 'scale' in version 0.22 to account better for unscaled features. Set gamma explicitly to 'auto' or 'scale' to avoid this warning.\n",
      "  \"avoid this warning.\", FutureWarning)\n"
     ]
    }
   ],
   "source": [
    "SVM = svm.SVC(kernel='rbf')\n",
    "SVM.fit(X_train, y_train) \n",
    "yhat_svm = SVM.predict(X_test)"
   ]
  },
  {
   "cell_type": "markdown",
   "metadata": {},
   "source": [
    "# Evaluation"
   ]
  },
  {
   "cell_type": "code",
   "execution_count": 73,
   "metadata": {},
   "outputs": [
    {
     "name": "stdout",
     "output_type": "stream",
     "text": [
      "F1 Score KNN: 0.42\n",
      "F1 Score Tree: 0.44\n",
      "F1 Score LR: 0.43\n",
      "F1 Score SVM: 0.4\n"
     ]
    }
   ],
   "source": [
    "f1knn = f1_score(y_test, yhat_neigh, average='weighted')\n",
    "print ('F1 Score KNN:', f1knn.round(2))\n",
    "f1tree = f1_score(y_test, yhat_tree, average='weighted')\n",
    "print ('F1 Score Tree:', f1tree.round(2))\n",
    "f1lr = f1_score(y_test, yhat_lr, average='weighted')\n",
    "print ('F1 Score LR:', f1lr.round(2))\n",
    "f1svm = f1_score(y_test, yhat_svm, average='weighted')\n",
    "print ('F1 Score SVM:', f1svm.round(2))"
   ]
  },
  {
   "cell_type": "code",
   "execution_count": 100,
   "metadata": {},
   "outputs": [
    {
     "data": {
      "image/png": "[encoded data removed]",
      "text/plain": [
       "<Figure size 432x288 with 1 Axes>"
      ]
     },
     "metadata": {
      "needs_background": "light"
     },
     "output_type": "display_data"
    }
   ],
   "source": [
    "data = {'y_test' : y_test, 'yhat_neigh' : yhat_neigh}\n",
    "df_cm = pd.DataFrame(data, columns=['y_test','yhat_neigh'])\n",
    "confusion_matrix = pd.crosstab(df_cm['y_test'], df_cm['yhat_neigh'], rownames=['Actual'], colnames=['Predicted'], normalize='columns')\n",
    "ax = plt.axes()\n",
    "sns.heatmap(confusion_matrix[order].loc[order], annot=True, ax = ax, fmt=\".1%\", cbar=False)\n",
    "ax.set_title('Confusion Matrix KNN')\n",
    "plt.show()"
   ]
  },
  {
   "cell_type": "code",
   "execution_count": 99,
   "metadata": {},
   "outputs": [
    {
     "data": {
      "image/png": "[encoded data removed]",
      "text/plain": [
       "<Figure size 432x288 with 1 Axes>"
      ]
     },
     "metadata": {
      "needs_background": "light"
     },
     "output_type": "display_data"
    }
   ],
   "source": [
    "data = {'y_test' : y_test, 'yhat_tree' : yhat_tree}\n",
    "df_cm = pd.DataFrame(data, columns=['y_test','yhat_tree'])\n",
    "confusion_matrix = pd.crosstab(df_cm['y_test'], df_cm['yhat_tree'], rownames=['Actual'], colnames=['Predicted'], normalize='columns')\n",
    "ax = plt.axes()\n",
    "sns.heatmap(confusion_matrix[order].loc[order], annot=True, ax = ax, fmt=\".1%\", cbar=False)\n",
    "ax.set_title('Confusion Matrix Tree')\n",
    "plt.show()"
   ]
  },
  {
   "cell_type": "code",
   "execution_count": 98,
   "metadata": {},
   "outputs": [
    {
     "data": {
      "image/png": "[encoded data removed]",
      "text/plain": [
       "<Figure size 432x288 with 1 Axes>"
      ]
     },
     "metadata": {
      "needs_background": "light"
     },
     "output_type": "display_data"
    }
   ],
   "source": [
    "data = {'y_test' : y_test, 'yhat_lr' : yhat_lr}\n",
    "df_cm = pd.DataFrame(data, columns=['y_test','yhat_lr'])\n",
    "confusion_matrix = pd.crosstab(df_cm['y_test'], df_cm['yhat_lr'], rownames=['Actual'], colnames=['Predicted'], normalize='columns')\n",
    "ax = plt.axes()\n",
    "sns.heatmap(confusion_matrix[order].loc[order], annot=True, ax = ax, fmt=\".1%\", cbar=False)\n",
    "ax.set_title('Confusion Matrix LR')\n",
    "plt.show()"
   ]
  },
  {
   "cell_type": "code",
   "execution_count": 97,
   "metadata": {},
   "outputs": [
    {
     "data": {
      "image/png": "[encoded data removed]",
      "text/plain": [
       "<Figure size 432x288 with 1 Axes>"
      ]
     },
     "metadata": {
      "needs_background": "light"
     },
     "output_type": "display_data"
    }
   ],
   "source": [
    "data = {'y_test' : y_test, 'yhat_svm' : yhat_svm}\n",
    "df_cm = pd.DataFrame(data, columns=['y_test','yhat_svm'])\n",
    "confusion_matrix = pd.crosstab(df_cm['y_test'], df_cm['yhat_svm'], rownames=['Actual'], colnames=['Predicted'], normalize='columns')\n",
    "ax = plt.axes()\n",
    "sns.heatmap(confusion_matrix[order].loc[order], annot=True, ax = ax, fmt=\".1%\", cbar=False)\n",
    "ax.set_title('Confusion Matrix SVM')\n",
    "plt.show()"
   ]
  }
 ],
 "metadata": {
  "kernelspec": {
   "display_name": "Python",
   "language": "python",
   "name": "conda-env-python-py"
  },
  "language_info": {
   "codemirror_mode": {
    "name": "ipython",
    "version": 3
   },
   "file_extension": ".py",
   "mimetype": "text/x-python",
   "name": "python",
   "nbconvert_exporter": "python",
   "pygments_lexer": "ipython3",
   "version": "3.6.11"
  }
 },
 "nbformat": 4,
 "nbformat_minor": 4
}
