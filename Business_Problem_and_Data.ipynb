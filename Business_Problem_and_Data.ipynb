{
    "cells": [
        {
            "cell_type": "markdown",
            "metadata": {
                "collapsed": true
            },
            "source": "## Introduction/Business Problem"
        },
        {
            "cell_type": "markdown",
            "metadata": {},
            "source": "Road safety is an important issue for modern societies. Big cities need to manage the growing volume of traffic to mitigate accidents. In 2019, the city of Seattle saw more than 3000 injuries including 25 fatalities caused by vehicle collisions. Learning which conditions are risk factors that elicit more severe accidents and therefore cause more fatalities and serious injuries is crucial. \n\nThis analysis will try to find models to predict when accidents are prone to becoming more dangerous. The city will then be able to adjust and develop traffic-related policies and prevention operations accordingly. "
        },
        {
            "cell_type": "markdown",
            "metadata": {},
            "source": "## Data"
        },
        {
            "cell_type": "markdown",
            "metadata": {},
            "source": "The city of Seattle published a dataset of vehicle collisions on its open data portal in 2018. The dataset consists of 221,266 records of accidents going back to 2004 and includes the time and location as well as factors like road and light condition. Where applicable, the data also showes if the driver was speeding, under the influence or inattentive. \n\nIn total (and grouped by severity) the records show the following accidents:\n\n|Severity of Accident  | Total count |\n| ------------- |------------- |\n|Property Damage Only Collision  |  137,485 |\n|Injury Collision           |        58,698 |\n|Unknown                  |          21,636 |\n|Serious Injury Collision      |      3,098 |\n|Fatality Collision            |        349 |\n\nThis analysis will examin the factors that contribute to accidents becoming more severe and develope a model to predict when the risk for serious injuries and fatalities is high."
        }
    ],
    "metadata": {
        "kernelspec": {
            "display_name": "Python 3.6",
            "language": "python",
            "name": "python3"
        },
        "language_info": {
            "codemirror_mode": {
                "name": "ipython",
                "version": 3
            },
            "file_extension": ".py",
            "mimetype": "text/x-python",
            "name": "python",
            "nbconvert_exporter": "python",
            "pygments_lexer": "ipython3",
            "version": "3.6.9"
        }
    },
    "nbformat": 4,
    "nbformat_minor": 1
}