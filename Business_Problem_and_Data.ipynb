{
    "cells": [
        {
            "cell_type": "markdown",
            "metadata": {
                "collapsed": true
            },
            "source": "## Introduction/Business Problem"
        },
        {
            "cell_type": "markdown",
            "metadata": {},
            "source": "Road safety is an important issue for modern societies. According to the CDC, road traffic crashes are a leading cause of death in the United States for people aged 1\u201354. Big cities need to respond to this by managing the growing volume of traffic to mitigate accidents and reduce fatalities and serious injuries on the road.  \n\nIn 2019, the city of Seattle saw more than 3000 injuries including 25 fatalities caused by vehicle collisions. Seattle has been recording vehicle accidents since 2004 in order to look for patterns and innovative solutions to road safety issues. The city is experimenting with new approaches to accident prevention, including counterintuitive measures such as [replacing traffic signals with stop signs](https://www.fastcompany.com/3068220/seattle-plans-to-improve-road-safety-by-replacing-traffic-signals-with-stop-signs#:~:text=Seattle%20may%20ditch%20traffic%20signals,drivers%20more%20attentive%20around%20intersections.&text=If%20you%20see%20a%20green,even%20at%20a%20road%20junction.). \n\nLearning which conditions are risk factors that elicit more severe accidents and therefore cause more fatalities and serious injuries is crucial. Based on the data published by the city of Seattle, this project will try to find models to predict when accidents are prone to becoming more dangerous. This should provide the necessary information to help make accidents less fatal. \n\nThe city will then be able to adjust and develop traffic-related policies and prevention operations accordingly, for example by providing better lighting or warning systems when weather conditions become dangerous. "
        },
        {
            "cell_type": "markdown",
            "metadata": {},
            "source": "## Data"
        },
        {
            "cell_type": "markdown",
            "metadata": {},
            "source": "The city of Seattle published a [dataset of vehicle collisions](https://data-seattlecitygis.opendata.arcgis.com/datasets/5b5c745e0f1f48e7a53acec63a0022ab_0) on its open data portal in 2018. The dataset consists of 221,266 records of accidents going back to 2004 and consists of 40 columns including id numbers from the state of Washington and the city of Seattle, report numbers, injury counts and markers such as if a parked car was hit and how many vehicles were involved. \n\nThe target of the prediction model this project is building is the severity code, meaning weather an accident produced only property damage or if people got seriously injured or even fatalities occured. In total (and grouped by severity) the records show the following accidents:\n\n|Severity of Accident  | Total count |\n| ------------- |------------- |\n|Property Damage Only Collision  |  137,485 |\n|Injury Collision           |        58,698 |\n|Unknown                  |          21,636 |\n|Serious Injury Collision      |      3,098 |\n|Fatality Collision            |        349 |\n\nFor the purpose of this analysis, we will be chosing a select few features ot of the 40 columns that have the best prediction value: \n\n- The date and time of the incident.\n- Weather condition (clear, raining, overcast, snowing, fog etc.)\n- Road condition (dry, wet, standing water, ice etc.) \n- Light condition (daylight, dark, streetlights on/off etc.)\n- Whether or not collision was due to inattention. (Y/N) \n- Whether or not a driver involved was under the influence of drugs or alcohol. \n- Weather of not a driver was speeding.\n- The number of pedestrians involved in the collision.\n- The number of cyclisist involved in the collision. \n\nBased on the developed model, we will be able to determine which of these features have the biggest influence on the severity of an accident. "
        }
    ],
    "metadata": {
        "kernelspec": {
            "display_name": "Python 3.6",
            "language": "python",
            "name": "python3"
        },
        "language_info": {
            "codemirror_mode": {
                "name": "ipython",
                "version": 3
            },
            "file_extension": ".py",
            "mimetype": "text/x-python",
            "name": "python",
            "nbconvert_exporter": "python",
            "pygments_lexer": "ipython3",
            "version": "3.6.9"
        }
    },
    "nbformat": 4,
    "nbformat_minor": 1
}